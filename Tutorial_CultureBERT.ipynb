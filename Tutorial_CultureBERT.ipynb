{
  "cells": [
    {
      "cell_type": "markdown",
      "source": [
        "# Tutorial: Predictions with CultureBERT\n",
        "\n",
        "CultureBERT was trained on 1,400 employee reviews to measure corporate culture. More specifically, it predicts corporate culture based on the four culture dimensions of the Competing Values Framework.\n",
        "\n",
        "Please cite: \n",
        "Koch, Sebastian; Pasch, Stefan (2022): CultureBERT: Fine-Tuning Transformer Based Language Models for Corporate Culture. Available online at http://arxiv.org/abs/2212.00509."
      ],
      "metadata": {
        "id": "dLbvZm-vmSX-"
      }
    },
    {
      "cell_type": "markdown",
      "source": [
        "### Install Transformers\n",
        "\n",
        "Make sure your runtime utilizes GPU"
      ],
      "metadata": {
        "id": "0BA3JRY6mObq"
      }
    },
    {
      "cell_type": "code",
      "execution_count": null,
      "metadata": {
        "id": "nZf9Fz56Ji2k"
      },
      "outputs": [],
      "source": [
        "!pip install transformers\n",
        "!pip install datasets"
      ]
    },
    {
      "cell_type": "markdown",
      "source": [
        "### load texts \n",
        "\n",
        "Own data can be put by drag and drop into data section in Colab (data get lost when runtime ends) or mounted via Google Drive"
      ],
      "metadata": {
        "id": "syd-MTppZi3_"
      }
    },
    {
      "cell_type": "code",
      "source": [
        "import pandas as pd\n",
        "\n",
        "## example text\n",
        "text_input = [\"Don't treat your employees like numbers!\",\n",
        "              \"Too much red-tape\",\n",
        "              \"Very friendly and collaborative work environment\"]\n",
        "\n",
        "##load own texts\n",
        "\"\"\"\n",
        "my_df = pd.read_csv(\"/content/my_data.csv\", sep = \";\")\n",
        "text_input = my_df[\"full_review\"].to_list()\n",
        "\"\"\"\n",
        "\n",
        "df = pd.DataFrame({'text': text_input})"
      ],
      "metadata": {
        "id": "ZJr2m1LWO3hM"
      },
      "execution_count": 48,
      "outputs": []
    },
    {
      "cell_type": "code",
      "source": [
        "### tokenize texts\n",
        "from datasets import Dataset\n",
        "\n",
        "def tokenize_function(examples):\n",
        "    return tokenizer(examples[\"text\"], padding=\"max_length\",  max_length=200, truncation=True)\n",
        "\n",
        "text_dataset = Dataset.from_pandas(df)\n",
        "text_tokenized = text_dataset.map(tokenize_function, batched=True)\n"
      ],
      "metadata": {
        "colab": {
          "base_uri": "https://localhost:8080/",
          "height": 49,
          "referenced_widgets": [
            "c02945c1960847c4a5ef8cbd8dcd3163",
            "2bd9700b74304303b2be881414d5b44a",
            "5f18387a158b4b3cb62c37b205e572e0",
            "fef3b498b60c4cce9b6c2608fa4c52cf",
            "02432766ecde42dbbc8e6abe04cf147c",
            "cbef9f7b4c124d68ad5b03b170db19b1",
            "6543451238404f789d1e96ae0cf3482d",
            "5b824180c8144cd9b4602230bd4f8501",
            "911c756051434814939dfda8ceb885d2",
            "9179acaa7532429f9e73d9af2aee47d2",
            "7559d0f40f3b4c50aefdd46282aa8118"
          ]
        },
        "id": "bJfB-TTqPNk8",
        "outputId": "eab7443a-ae2f-4446-cd53-1f7c1590ae52"
      },
      "execution_count": 49,
      "outputs": [
        {
          "output_type": "display_data",
          "data": {
            "text/plain": [
              "  0%|          | 0/1 [00:00<?, ?ba/s]"
            ],
            "application/vnd.jupyter.widget-view+json": {
              "version_major": 2,
              "version_minor": 0,
              "model_id": "c02945c1960847c4a5ef8cbd8dcd3163"
            }
          },
          "metadata": {}
        }
      ]
    },
    {
      "cell_type": "markdown",
      "source": [
        "# Predict Dominant Culture\n",
        "\n",
        "In this section we load the model *roberta-large-dominant-culture* that predicts which of the four culture dimensions of the Competing Values Framework best fits the text at hands, i.e., what is the dominant culture."
      ],
      "metadata": {
        "id": "pBzdi8nCiJsP"
      }
    },
    {
      "cell_type": "code",
      "source": [
        "### load model\n",
        "from transformers import AutoTokenizer\n",
        "from transformers import AutoModelForSequenceClassification\n",
        "\n",
        "tokenizer = AutoTokenizer.from_pretrained(\"CultureBERT/roberta-large-dominant-culture\")\n",
        "model = AutoModelForSequenceClassification.from_pretrained(\"CultureBERT/roberta-large-dominant-culture\", num_labels=4)"
      ],
      "metadata": {
        "id": "uvJ2kobJiIwz"
      },
      "execution_count": null,
      "outputs": []
    },
    {
      "cell_type": "code",
      "source": [
        "### make predictions\n",
        "from transformers import Trainer\n",
        "from scipy.special import softmax\n",
        "\n",
        "trainer = Trainer(model=model)\n",
        "\n",
        "predictions = trainer.predict(test_dataset = text_tokenized)\n"
      ],
      "metadata": {
        "colab": {
          "base_uri": "https://localhost:8080/",
          "height": 159
        },
        "id": "88tOErTtQ_ec",
        "outputId": "4308895e-13a2-4e02-e5f4-c294589fd08f"
      },
      "execution_count": 51,
      "outputs": [
        {
          "output_type": "stream",
          "name": "stderr",
          "text": [
            "No `TrainingArguments` passed, using `output_dir=tmp_trainer`.\n",
            "PyTorch: setting up devices\n",
            "The default value for the training argument `--report_to` will change in v5 (from all installed integrations to none). In v5, you will need to use `--report_to all` to get the same behavior as now. You should start updating your code and make this info disappear :-).\n",
            "The following columns in the test set don't have a corresponding argument in `RobertaForSequenceClassification.forward` and have been ignored: text. If text are not expected by `RobertaForSequenceClassification.forward`,  you can safely ignore this message.\n",
            "***** Running Prediction *****\n",
            "  Num examples = 3\n",
            "  Batch size = 8\n"
          ]
        },
        {
          "output_type": "display_data",
          "data": {
            "text/plain": [
              "<IPython.core.display.HTML object>"
            ],
            "text/html": []
          },
          "metadata": {}
        }
      ]
    },
    {
      "cell_type": "code",
      "source": [
        "#transform predictions into probabilities\n",
        "probabilities = softmax(predictions.predictions, axis = 1)\n",
        "\n",
        "clan_scores = []\n",
        "adhocracy_scores = []\n",
        "market_scores = []\n",
        "hierarchy_scores = []\n",
        "\n",
        "\n",
        "for prediction in probabilities:\n",
        "  clan_scores.append(prediction[0])\n",
        "  adhocracy_scores.append(prediction[1])\n",
        "  market_scores.append(prediction[2])\n",
        "  hierarchy_scores.append(prediction[3])"
      ],
      "metadata": {
        "id": "T0ROdjz3aKcE"
      },
      "execution_count": 52,
      "outputs": []
    },
    {
      "cell_type": "markdown",
      "source": [
        "Create Dataframe and determine dominant culture"
      ],
      "metadata": {
        "id": "CLeaGMazjfFv"
      }
    },
    {
      "cell_type": "code",
      "source": [
        "df_dominant_culture = pd.DataFrame(\n",
        "    {\n",
        "     'text': text_input,\n",
        "     'clan': clan_scores,\n",
        "     'adhocracy': adhocracy_scores,\n",
        "     'market': market_scores,\n",
        "     'hierarchy': hierarchy_scores,\n",
        "    })\n",
        "\n",
        "df_dominant_culture['dominant_culture'] = df_dominant_culture[['clan','adhocracy', 'market', 'hierarchy']].idxmax(axis=1)"
      ],
      "metadata": {
        "id": "5tUQLln3aO5X"
      },
      "execution_count": 53,
      "outputs": []
    },
    {
      "cell_type": "markdown",
      "source": [
        "Safe Dataframe"
      ],
      "metadata": {
        "id": "ViUuBpvPjlqz"
      }
    },
    {
      "cell_type": "code",
      "source": [
        "df_dominant_culture.to_csv(\"/content/my_scores.csv\", sep = \";\")"
      ],
      "metadata": {
        "id": "v3tUlMg_hZ-_"
      },
      "execution_count": 40,
      "outputs": []
    },
    {
      "cell_type": "code",
      "source": [
        "### see results\n",
        "df_dominant_culture"
      ],
      "metadata": {
        "colab": {
          "base_uri": "https://localhost:8080/",
          "height": 143
        },
        "id": "I9-PMMlxaesP",
        "outputId": "1cd7676b-c97b-4630-ca0d-5441c40c8724"
      },
      "execution_count": 54,
      "outputs": [
        {
          "output_type": "execute_result",
          "data": {
            "text/plain": [
              "                                               text      clan  adhocracy  \\\n",
              "0          Don't treat your employees like numbers!  0.114001   0.096637   \n",
              "1                                 Too much red-tape  0.183804   0.125862   \n",
              "2  Very friendly and collaborative work environment  0.732498   0.082554   \n",
              "\n",
              "     market  hierarchy dominant_culture  \n",
              "0  0.552592   0.236770           market  \n",
              "1  0.290897   0.399437        hierarchy  \n",
              "2  0.084714   0.100233             clan  "
            ],
            "text/html": [
              "\n",
              "  <div id=\"df-f7c83f0a-7ecb-4bc7-87e8-e1cffe946c93\">\n",
              "    <div class=\"colab-df-container\">\n",
              "      <div>\n",
              "<style scoped>\n",
              "    .dataframe tbody tr th:only-of-type {\n",
              "        vertical-align: middle;\n",
              "    }\n",
              "\n",
              "    .dataframe tbody tr th {\n",
              "        vertical-align: top;\n",
              "    }\n",
              "\n",
              "    .dataframe thead th {\n",
              "        text-align: right;\n",
              "    }\n",
              "</style>\n",
              "<table border=\"1\" class=\"dataframe\">\n",
              "  <thead>\n",
              "    <tr style=\"text-align: right;\">\n",
              "      <th></th>\n",
              "      <th>text</th>\n",
              "      <th>clan</th>\n",
              "      <th>adhocracy</th>\n",
              "      <th>market</th>\n",
              "      <th>hierarchy</th>\n",
              "      <th>dominant_culture</th>\n",
              "    </tr>\n",
              "  </thead>\n",
              "  <tbody>\n",
              "    <tr>\n",
              "      <th>0</th>\n",
              "      <td>Don't treat your employees like numbers!</td>\n",
              "      <td>0.114001</td>\n",
              "      <td>0.096637</td>\n",
              "      <td>0.552592</td>\n",
              "      <td>0.236770</td>\n",
              "      <td>market</td>\n",
              "    </tr>\n",
              "    <tr>\n",
              "      <th>1</th>\n",
              "      <td>Too much red-tape</td>\n",
              "      <td>0.183804</td>\n",
              "      <td>0.125862</td>\n",
              "      <td>0.290897</td>\n",
              "      <td>0.399437</td>\n",
              "      <td>hierarchy</td>\n",
              "    </tr>\n",
              "    <tr>\n",
              "      <th>2</th>\n",
              "      <td>Very friendly and collaborative work environment</td>\n",
              "      <td>0.732498</td>\n",
              "      <td>0.082554</td>\n",
              "      <td>0.084714</td>\n",
              "      <td>0.100233</td>\n",
              "      <td>clan</td>\n",
              "    </tr>\n",
              "  </tbody>\n",
              "</table>\n",
              "</div>\n",
              "      <button class=\"colab-df-convert\" onclick=\"convertToInteractive('df-f7c83f0a-7ecb-4bc7-87e8-e1cffe946c93')\"\n",
              "              title=\"Convert this dataframe to an interactive table.\"\n",
              "              style=\"display:none;\">\n",
              "        \n",
              "  <svg xmlns=\"http://www.w3.org/2000/svg\" height=\"24px\"viewBox=\"0 0 24 24\"\n",
              "       width=\"24px\">\n",
              "    <path d=\"M0 0h24v24H0V0z\" fill=\"none\"/>\n",
              "    <path d=\"M18.56 5.44l.94 2.06.94-2.06 2.06-.94-2.06-.94-.94-2.06-.94 2.06-2.06.94zm-11 1L8.5 8.5l.94-2.06 2.06-.94-2.06-.94L8.5 2.5l-.94 2.06-2.06.94zm10 10l.94 2.06.94-2.06 2.06-.94-2.06-.94-.94-2.06-.94 2.06-2.06.94z\"/><path d=\"M17.41 7.96l-1.37-1.37c-.4-.4-.92-.59-1.43-.59-.52 0-1.04.2-1.43.59L10.3 9.45l-7.72 7.72c-.78.78-.78 2.05 0 2.83L4 21.41c.39.39.9.59 1.41.59.51 0 1.02-.2 1.41-.59l7.78-7.78 2.81-2.81c.8-.78.8-2.07 0-2.86zM5.41 20L4 18.59l7.72-7.72 1.47 1.35L5.41 20z\"/>\n",
              "  </svg>\n",
              "      </button>\n",
              "      \n",
              "  <style>\n",
              "    .colab-df-container {\n",
              "      display:flex;\n",
              "      flex-wrap:wrap;\n",
              "      gap: 12px;\n",
              "    }\n",
              "\n",
              "    .colab-df-convert {\n",
              "      background-color: #E8F0FE;\n",
              "      border: none;\n",
              "      border-radius: 50%;\n",
              "      cursor: pointer;\n",
              "      display: none;\n",
              "      fill: #1967D2;\n",
              "      height: 32px;\n",
              "      padding: 0 0 0 0;\n",
              "      width: 32px;\n",
              "    }\n",
              "\n",
              "    .colab-df-convert:hover {\n",
              "      background-color: #E2EBFA;\n",
              "      box-shadow: 0px 1px 2px rgba(60, 64, 67, 0.3), 0px 1px 3px 1px rgba(60, 64, 67, 0.15);\n",
              "      fill: #174EA6;\n",
              "    }\n",
              "\n",
              "    [theme=dark] .colab-df-convert {\n",
              "      background-color: #3B4455;\n",
              "      fill: #D2E3FC;\n",
              "    }\n",
              "\n",
              "    [theme=dark] .colab-df-convert:hover {\n",
              "      background-color: #434B5C;\n",
              "      box-shadow: 0px 1px 3px 1px rgba(0, 0, 0, 0.15);\n",
              "      filter: drop-shadow(0px 1px 2px rgba(0, 0, 0, 0.3));\n",
              "      fill: #FFFFFF;\n",
              "    }\n",
              "  </style>\n",
              "\n",
              "      <script>\n",
              "        const buttonEl =\n",
              "          document.querySelector('#df-f7c83f0a-7ecb-4bc7-87e8-e1cffe946c93 button.colab-df-convert');\n",
              "        buttonEl.style.display =\n",
              "          google.colab.kernel.accessAllowed ? 'block' : 'none';\n",
              "\n",
              "        async function convertToInteractive(key) {\n",
              "          const element = document.querySelector('#df-f7c83f0a-7ecb-4bc7-87e8-e1cffe946c93');\n",
              "          const dataTable =\n",
              "            await google.colab.kernel.invokeFunction('convertToInteractive',\n",
              "                                                     [key], {});\n",
              "          if (!dataTable) return;\n",
              "\n",
              "          const docLinkHtml = 'Like what you see? Visit the ' +\n",
              "            '<a target=\"_blank\" href=https://colab.research.google.com/notebooks/data_table.ipynb>data table notebook</a>'\n",
              "            + ' to learn more about interactive tables.';\n",
              "          element.innerHTML = '';\n",
              "          dataTable['output_type'] = 'display_data';\n",
              "          await google.colab.output.renderOutput(dataTable, element);\n",
              "          const docLink = document.createElement('div');\n",
              "          docLink.innerHTML = docLinkHtml;\n",
              "          element.appendChild(docLink);\n",
              "        }\n",
              "      </script>\n",
              "    </div>\n",
              "  </div>\n",
              "  "
            ]
          },
          "metadata": {},
          "execution_count": 54
        }
      ]
    },
    {
      "cell_type": "markdown",
      "source": [
        "# Predict Culture Dimension\n",
        "\n",
        "In this section we load a model that classifies a text according to one CVF dimension as either netural, positive, or negative"
      ],
      "metadata": {
        "id": "4RDGfIM-kdrl"
      }
    },
    {
      "cell_type": "code",
      "source": [
        "### load model\n",
        "from transformers import AutoTokenizer\n",
        "from transformers import AutoModelForSequenceClassification\n",
        "\n",
        "## choose one dimension. Example with Clan Dimension\n",
        "\n",
        "culture_model =\"CultureBERT/roberta-large-clan\"\n",
        "#culture_model =\"CultureBERT/roberta-large-adhocracy\"\n",
        "#culture_model =\"CultureBERT/roberta-large-market\"\n",
        "#culture_model =\"CultureBERT/roberta-large-hierarchy\"\n",
        "\n",
        "tokenizer = AutoTokenizer.from_pretrained(culture_model)\n",
        "model = AutoModelForSequenceClassification.from_pretrained(culture_model, num_labels=3)"
      ],
      "metadata": {
        "id": "51j35N2Ckai8"
      },
      "execution_count": null,
      "outputs": []
    },
    {
      "cell_type": "code",
      "source": [
        "### make predictions\n",
        "from transformers import Trainer\n",
        "from scipy.special import softmax\n",
        "\n",
        "trainer = Trainer(model=model)\n",
        "\n",
        "predictions = trainer.predict(test_dataset = text_tokenized)"
      ],
      "metadata": {
        "id": "H22Ps2rzlIaA"
      },
      "execution_count": null,
      "outputs": []
    },
    {
      "cell_type": "code",
      "source": [
        "#transform predictions into probabilities\n",
        "probabilities = softmax(predictions.predictions, axis = 1)\n",
        "\n",
        "neutral_scores = []\n",
        "positive_scores = []\n",
        "negative_scores = []\n",
        "\n",
        "\n",
        "\n",
        "for prediction in probabilities:\n",
        "  neutral_scores.append(prediction[0])\n",
        "  positive_scores.append(prediction[1])\n",
        "  negative_scores.append(prediction[2])\n"
      ],
      "metadata": {
        "id": "2-EFv2nWlQV2"
      },
      "execution_count": 57,
      "outputs": []
    },
    {
      "cell_type": "code",
      "source": [
        "df_culture = pd.DataFrame(\n",
        "    {\n",
        "     'text': text_input,\n",
        "     'neutral': neutral_scores,\n",
        "     'positive': positive_scores,\n",
        "     'negative': negative_scores,\n",
        "    })\n",
        "\n",
        "df_culture['prediction'] = df_culture[['neutral','positive', 'negative']].idxmax(axis=1)"
      ],
      "metadata": {
        "id": "FKcXuzkOld2k"
      },
      "execution_count": 58,
      "outputs": []
    },
    {
      "cell_type": "code",
      "source": [
        "df_culture.to_csv(\"/content/single_culture_dimension.csv\", sep = \";\")"
      ],
      "metadata": {
        "id": "1ICCZLofnnqJ"
      },
      "execution_count": null,
      "outputs": []
    },
    {
      "cell_type": "code",
      "source": [
        "df_culture"
      ],
      "metadata": {
        "colab": {
          "base_uri": "https://localhost:8080/",
          "height": 143
        },
        "id": "A390fkmvmBGI",
        "outputId": "8ad996c3-1f5d-4361-edce-6341f248bc93"
      },
      "execution_count": 59,
      "outputs": [
        {
          "output_type": "execute_result",
          "data": {
            "text/plain": [
              "                                               text   neutral  positive  \\\n",
              "0          Don't treat your employees like numbers!  0.009679  0.006638   \n",
              "1                                 Too much red-tape  0.925018  0.015644   \n",
              "2  Very friendly and collaborative work environment  0.007218  0.990893   \n",
              "\n",
              "   negative prediction  \n",
              "0  0.983683   negative  \n",
              "1  0.059339    neutral  \n",
              "2  0.001889   positive  "
            ],
            "text/html": [
              "\n",
              "  <div id=\"df-26b90077-d10e-4280-8f6d-dc5e321b6fda\">\n",
              "    <div class=\"colab-df-container\">\n",
              "      <div>\n",
              "<style scoped>\n",
              "    .dataframe tbody tr th:only-of-type {\n",
              "        vertical-align: middle;\n",
              "    }\n",
              "\n",
              "    .dataframe tbody tr th {\n",
              "        vertical-align: top;\n",
              "    }\n",
              "\n",
              "    .dataframe thead th {\n",
              "        text-align: right;\n",
              "    }\n",
              "</style>\n",
              "<table border=\"1\" class=\"dataframe\">\n",
              "  <thead>\n",
              "    <tr style=\"text-align: right;\">\n",
              "      <th></th>\n",
              "      <th>text</th>\n",
              "      <th>neutral</th>\n",
              "      <th>positive</th>\n",
              "      <th>negative</th>\n",
              "      <th>prediction</th>\n",
              "    </tr>\n",
              "  </thead>\n",
              "  <tbody>\n",
              "    <tr>\n",
              "      <th>0</th>\n",
              "      <td>Don't treat your employees like numbers!</td>\n",
              "      <td>0.009679</td>\n",
              "      <td>0.006638</td>\n",
              "      <td>0.983683</td>\n",
              "      <td>negative</td>\n",
              "    </tr>\n",
              "    <tr>\n",
              "      <th>1</th>\n",
              "      <td>Too much red-tape</td>\n",
              "      <td>0.925018</td>\n",
              "      <td>0.015644</td>\n",
              "      <td>0.059339</td>\n",
              "      <td>neutral</td>\n",
              "    </tr>\n",
              "    <tr>\n",
              "      <th>2</th>\n",
              "      <td>Very friendly and collaborative work environment</td>\n",
              "      <td>0.007218</td>\n",
              "      <td>0.990893</td>\n",
              "      <td>0.001889</td>\n",
              "      <td>positive</td>\n",
              "    </tr>\n",
              "  </tbody>\n",
              "</table>\n",
              "</div>\n",
              "      <button class=\"colab-df-convert\" onclick=\"convertToInteractive('df-26b90077-d10e-4280-8f6d-dc5e321b6fda')\"\n",
              "              title=\"Convert this dataframe to an interactive table.\"\n",
              "              style=\"display:none;\">\n",
              "        \n",
              "  <svg xmlns=\"http://www.w3.org/2000/svg\" height=\"24px\"viewBox=\"0 0 24 24\"\n",
              "       width=\"24px\">\n",
              "    <path d=\"M0 0h24v24H0V0z\" fill=\"none\"/>\n",
              "    <path d=\"M18.56 5.44l.94 2.06.94-2.06 2.06-.94-2.06-.94-.94-2.06-.94 2.06-2.06.94zm-11 1L8.5 8.5l.94-2.06 2.06-.94-2.06-.94L8.5 2.5l-.94 2.06-2.06.94zm10 10l.94 2.06.94-2.06 2.06-.94-2.06-.94-.94-2.06-.94 2.06-2.06.94z\"/><path d=\"M17.41 7.96l-1.37-1.37c-.4-.4-.92-.59-1.43-.59-.52 0-1.04.2-1.43.59L10.3 9.45l-7.72 7.72c-.78.78-.78 2.05 0 2.83L4 21.41c.39.39.9.59 1.41.59.51 0 1.02-.2 1.41-.59l7.78-7.78 2.81-2.81c.8-.78.8-2.07 0-2.86zM5.41 20L4 18.59l7.72-7.72 1.47 1.35L5.41 20z\"/>\n",
              "  </svg>\n",
              "      </button>\n",
              "      \n",
              "  <style>\n",
              "    .colab-df-container {\n",
              "      display:flex;\n",
              "      flex-wrap:wrap;\n",
              "      gap: 12px;\n",
              "    }\n",
              "\n",
              "    .colab-df-convert {\n",
              "      background-color: #E8F0FE;\n",
              "      border: none;\n",
              "      border-radius: 50%;\n",
              "      cursor: pointer;\n",
              "      display: none;\n",
              "      fill: #1967D2;\n",
              "      height: 32px;\n",
              "      padding: 0 0 0 0;\n",
              "      width: 32px;\n",
              "    }\n",
              "\n",
              "    .colab-df-convert:hover {\n",
              "      background-color: #E2EBFA;\n",
              "      box-shadow: 0px 1px 2px rgba(60, 64, 67, 0.3), 0px 1px 3px 1px rgba(60, 64, 67, 0.15);\n",
              "      fill: #174EA6;\n",
              "    }\n",
              "\n",
              "    [theme=dark] .colab-df-convert {\n",
              "      background-color: #3B4455;\n",
              "      fill: #D2E3FC;\n",
              "    }\n",
              "\n",
              "    [theme=dark] .colab-df-convert:hover {\n",
              "      background-color: #434B5C;\n",
              "      box-shadow: 0px 1px 3px 1px rgba(0, 0, 0, 0.15);\n",
              "      filter: drop-shadow(0px 1px 2px rgba(0, 0, 0, 0.3));\n",
              "      fill: #FFFFFF;\n",
              "    }\n",
              "  </style>\n",
              "\n",
              "      <script>\n",
              "        const buttonEl =\n",
              "          document.querySelector('#df-26b90077-d10e-4280-8f6d-dc5e321b6fda button.colab-df-convert');\n",
              "        buttonEl.style.display =\n",
              "          google.colab.kernel.accessAllowed ? 'block' : 'none';\n",
              "\n",
              "        async function convertToInteractive(key) {\n",
              "          const element = document.querySelector('#df-26b90077-d10e-4280-8f6d-dc5e321b6fda');\n",
              "          const dataTable =\n",
              "            await google.colab.kernel.invokeFunction('convertToInteractive',\n",
              "                                                     [key], {});\n",
              "          if (!dataTable) return;\n",
              "\n",
              "          const docLinkHtml = 'Like what you see? Visit the ' +\n",
              "            '<a target=\"_blank\" href=https://colab.research.google.com/notebooks/data_table.ipynb>data table notebook</a>'\n",
              "            + ' to learn more about interactive tables.';\n",
              "          element.innerHTML = '';\n",
              "          dataTable['output_type'] = 'display_data';\n",
              "          await google.colab.output.renderOutput(dataTable, element);\n",
              "          const docLink = document.createElement('div');\n",
              "          docLink.innerHTML = docLinkHtml;\n",
              "          element.appendChild(docLink);\n",
              "        }\n",
              "      </script>\n",
              "    </div>\n",
              "  </div>\n",
              "  "
            ]
          },
          "metadata": {},
          "execution_count": 59
        }
      ]
    }
  ],
  "metadata": {
    "accelerator": "GPU",
    "colab": {
      "machine_shape": "hm",
      "provenance": []
    },
    "gpuClass": "standard",
    "kernelspec": {
      "display_name": "Python 3",
      "name": "python3"
    },
    "language_info": {
      "name": "python"
    },
    "widgets": {
      "application/vnd.jupyter.widget-state+json": {
        "c02945c1960847c4a5ef8cbd8dcd3163": {
          "model_module": "@jupyter-widgets/controls",
          "model_name": "HBoxModel",
          "model_module_version": "1.5.0",
          "state": {
            "_dom_classes": [],
            "_model_module": "@jupyter-widgets/controls",
            "_model_module_version": "1.5.0",
            "_model_name": "HBoxModel",
            "_view_count": null,
            "_view_module": "@jupyter-widgets/controls",
            "_view_module_version": "1.5.0",
            "_view_name": "HBoxView",
            "box_style": "",
            "children": [
              "IPY_MODEL_2bd9700b74304303b2be881414d5b44a",
              "IPY_MODEL_5f18387a158b4b3cb62c37b205e572e0",
              "IPY_MODEL_fef3b498b60c4cce9b6c2608fa4c52cf"
            ],
            "layout": "IPY_MODEL_02432766ecde42dbbc8e6abe04cf147c"
          }
        },
        "2bd9700b74304303b2be881414d5b44a": {
          "model_module": "@jupyter-widgets/controls",
          "model_name": "HTMLModel",
          "model_module_version": "1.5.0",
          "state": {
            "_dom_classes": [],
            "_model_module": "@jupyter-widgets/controls",
            "_model_module_version": "1.5.0",
            "_model_name": "HTMLModel",
            "_view_count": null,
            "_view_module": "@jupyter-widgets/controls",
            "_view_module_version": "1.5.0",
            "_view_name": "HTMLView",
            "description": "",
            "description_tooltip": null,
            "layout": "IPY_MODEL_cbef9f7b4c124d68ad5b03b170db19b1",
            "placeholder": "​",
            "style": "IPY_MODEL_6543451238404f789d1e96ae0cf3482d",
            "value": "100%"
          }
        },
        "5f18387a158b4b3cb62c37b205e572e0": {
          "model_module": "@jupyter-widgets/controls",
          "model_name": "FloatProgressModel",
          "model_module_version": "1.5.0",
          "state": {
            "_dom_classes": [],
            "_model_module": "@jupyter-widgets/controls",
            "_model_module_version": "1.5.0",
            "_model_name": "FloatProgressModel",
            "_view_count": null,
            "_view_module": "@jupyter-widgets/controls",
            "_view_module_version": "1.5.0",
            "_view_name": "ProgressView",
            "bar_style": "success",
            "description": "",
            "description_tooltip": null,
            "layout": "IPY_MODEL_5b824180c8144cd9b4602230bd4f8501",
            "max": 1,
            "min": 0,
            "orientation": "horizontal",
            "style": "IPY_MODEL_911c756051434814939dfda8ceb885d2",
            "value": 1
          }
        },
        "fef3b498b60c4cce9b6c2608fa4c52cf": {
          "model_module": "@jupyter-widgets/controls",
          "model_name": "HTMLModel",
          "model_module_version": "1.5.0",
          "state": {
            "_dom_classes": [],
            "_model_module": "@jupyter-widgets/controls",
            "_model_module_version": "1.5.0",
            "_model_name": "HTMLModel",
            "_view_count": null,
            "_view_module": "@jupyter-widgets/controls",
            "_view_module_version": "1.5.0",
            "_view_name": "HTMLView",
            "description": "",
            "description_tooltip": null,
            "layout": "IPY_MODEL_9179acaa7532429f9e73d9af2aee47d2",
            "placeholder": "​",
            "style": "IPY_MODEL_7559d0f40f3b4c50aefdd46282aa8118",
            "value": " 1/1 [00:00&lt;00:00, 48.65ba/s]"
          }
        },
        "02432766ecde42dbbc8e6abe04cf147c": {
          "model_module": "@jupyter-widgets/base",
          "model_name": "LayoutModel",
          "model_module_version": "1.2.0",
          "state": {
            "_model_module": "@jupyter-widgets/base",
            "_model_module_version": "1.2.0",
            "_model_name": "LayoutModel",
            "_view_count": null,
            "_view_module": "@jupyter-widgets/base",
            "_view_module_version": "1.2.0",
            "_view_name": "LayoutView",
            "align_content": null,
            "align_items": null,
            "align_self": null,
            "border": null,
            "bottom": null,
            "display": null,
            "flex": null,
            "flex_flow": null,
            "grid_area": null,
            "grid_auto_columns": null,
            "grid_auto_flow": null,
            "grid_auto_rows": null,
            "grid_column": null,
            "grid_gap": null,
            "grid_row": null,
            "grid_template_areas": null,
            "grid_template_columns": null,
            "grid_template_rows": null,
            "height": null,
            "justify_content": null,
            "justify_items": null,
            "left": null,
            "margin": null,
            "max_height": null,
            "max_width": null,
            "min_height": null,
            "min_width": null,
            "object_fit": null,
            "object_position": null,
            "order": null,
            "overflow": null,
            "overflow_x": null,
            "overflow_y": null,
            "padding": null,
            "right": null,
            "top": null,
            "visibility": null,
            "width": null
          }
        },
        "cbef9f7b4c124d68ad5b03b170db19b1": {
          "model_module": "@jupyter-widgets/base",
          "model_name": "LayoutModel",
          "model_module_version": "1.2.0",
          "state": {
            "_model_module": "@jupyter-widgets/base",
            "_model_module_version": "1.2.0",
            "_model_name": "LayoutModel",
            "_view_count": null,
            "_view_module": "@jupyter-widgets/base",
            "_view_module_version": "1.2.0",
            "_view_name": "LayoutView",
            "align_content": null,
            "align_items": null,
            "align_self": null,
            "border": null,
            "bottom": null,
            "display": null,
            "flex": null,
            "flex_flow": null,
            "grid_area": null,
            "grid_auto_columns": null,
            "grid_auto_flow": null,
            "grid_auto_rows": null,
            "grid_column": null,
            "grid_gap": null,
            "grid_row": null,
            "grid_template_areas": null,
            "grid_template_columns": null,
            "grid_template_rows": null,
            "height": null,
            "justify_content": null,
            "justify_items": null,
            "left": null,
            "margin": null,
            "max_height": null,
            "max_width": null,
            "min_height": null,
            "min_width": null,
            "object_fit": null,
            "object_position": null,
            "order": null,
            "overflow": null,
            "overflow_x": null,
            "overflow_y": null,
            "padding": null,
            "right": null,
            "top": null,
            "visibility": null,
            "width": null
          }
        },
        "6543451238404f789d1e96ae0cf3482d": {
          "model_module": "@jupyter-widgets/controls",
          "model_name": "DescriptionStyleModel",
          "model_module_version": "1.5.0",
          "state": {
            "_model_module": "@jupyter-widgets/controls",
            "_model_module_version": "1.5.0",
            "_model_name": "DescriptionStyleModel",
            "_view_count": null,
            "_view_module": "@jupyter-widgets/base",
            "_view_module_version": "1.2.0",
            "_view_name": "StyleView",
            "description_width": ""
          }
        },
        "5b824180c8144cd9b4602230bd4f8501": {
          "model_module": "@jupyter-widgets/base",
          "model_name": "LayoutModel",
          "model_module_version": "1.2.0",
          "state": {
            "_model_module": "@jupyter-widgets/base",
            "_model_module_version": "1.2.0",
            "_model_name": "LayoutModel",
            "_view_count": null,
            "_view_module": "@jupyter-widgets/base",
            "_view_module_version": "1.2.0",
            "_view_name": "LayoutView",
            "align_content": null,
            "align_items": null,
            "align_self": null,
            "border": null,
            "bottom": null,
            "display": null,
            "flex": null,
            "flex_flow": null,
            "grid_area": null,
            "grid_auto_columns": null,
            "grid_auto_flow": null,
            "grid_auto_rows": null,
            "grid_column": null,
            "grid_gap": null,
            "grid_row": null,
            "grid_template_areas": null,
            "grid_template_columns": null,
            "grid_template_rows": null,
            "height": null,
            "justify_content": null,
            "justify_items": null,
            "left": null,
            "margin": null,
            "max_height": null,
            "max_width": null,
            "min_height": null,
            "min_width": null,
            "object_fit": null,
            "object_position": null,
            "order": null,
            "overflow": null,
            "overflow_x": null,
            "overflow_y": null,
            "padding": null,
            "right": null,
            "top": null,
            "visibility": null,
            "width": null
          }
        },
        "911c756051434814939dfda8ceb885d2": {
          "model_module": "@jupyter-widgets/controls",
          "model_name": "ProgressStyleModel",
          "model_module_version": "1.5.0",
          "state": {
            "_model_module": "@jupyter-widgets/controls",
            "_model_module_version": "1.5.0",
            "_model_name": "ProgressStyleModel",
            "_view_count": null,
            "_view_module": "@jupyter-widgets/base",
            "_view_module_version": "1.2.0",
            "_view_name": "StyleView",
            "bar_color": null,
            "description_width": ""
          }
        },
        "9179acaa7532429f9e73d9af2aee47d2": {
          "model_module": "@jupyter-widgets/base",
          "model_name": "LayoutModel",
          "model_module_version": "1.2.0",
          "state": {
            "_model_module": "@jupyter-widgets/base",
            "_model_module_version": "1.2.0",
            "_model_name": "LayoutModel",
            "_view_count": null,
            "_view_module": "@jupyter-widgets/base",
            "_view_module_version": "1.2.0",
            "_view_name": "LayoutView",
            "align_content": null,
            "align_items": null,
            "align_self": null,
            "border": null,
            "bottom": null,
            "display": null,
            "flex": null,
            "flex_flow": null,
            "grid_area": null,
            "grid_auto_columns": null,
            "grid_auto_flow": null,
            "grid_auto_rows": null,
            "grid_column": null,
            "grid_gap": null,
            "grid_row": null,
            "grid_template_areas": null,
            "grid_template_columns": null,
            "grid_template_rows": null,
            "height": null,
            "justify_content": null,
            "justify_items": null,
            "left": null,
            "margin": null,
            "max_height": null,
            "max_width": null,
            "min_height": null,
            "min_width": null,
            "object_fit": null,
            "object_position": null,
            "order": null,
            "overflow": null,
            "overflow_x": null,
            "overflow_y": null,
            "padding": null,
            "right": null,
            "top": null,
            "visibility": null,
            "width": null
          }
        },
        "7559d0f40f3b4c50aefdd46282aa8118": {
          "model_module": "@jupyter-widgets/controls",
          "model_name": "DescriptionStyleModel",
          "model_module_version": "1.5.0",
          "state": {
            "_model_module": "@jupyter-widgets/controls",
            "_model_module_version": "1.5.0",
            "_model_name": "DescriptionStyleModel",
            "_view_count": null,
            "_view_module": "@jupyter-widgets/base",
            "_view_module_version": "1.2.0",
            "_view_name": "StyleView",
            "description_width": ""
          }
        }
      }
    }
  },
  "nbformat": 4,
  "nbformat_minor": 0
}