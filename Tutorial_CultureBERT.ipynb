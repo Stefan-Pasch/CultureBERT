{
  "cells": [
    {
      "cell_type": "markdown",
      "source": [
        "[![Open In Colab](https://colab.research.google.com/assets/colab-badge.svg)](https://githubtocolab.com/Stefan-Pasch/CultureBERT/blob/main/Tutorial_CultureBERT.ipynb)"
      ],
      "metadata": {
        "id": "eMvRNxN4ygXM"
      }
    },
    {
      "cell_type": "markdown",
      "metadata": {
        "id": "dLbvZm-vmSX-"
      },
      "source": [
        "# Tutorial: Predict Corporate Culture with CultureBERT\n",
        "\n",
        "CultureBERT was trained on 1,400 employee reviews to measure corporate culture. More specifically, it predicts corporate culture based on the four culture dimensions of the Competing Values Framework.\n",
        "\n",
        "Please cite: \n",
        "Koch, Sebastian; Pasch, Stefan (2022): CultureBERT: Fine-Tuning Transformer-Based Language Models for Corporate Culture. Available online at http://arxiv.org/abs/2212.00509.\n",
        "\n",
        "\n",
        "Check Hugging Face model hub: https://huggingface.co/CultureBERT."
      ]
    },
    {
      "cell_type": "markdown",
      "metadata": {
        "id": "0BA3JRY6mObq"
      },
      "source": [
        "### Install Transformers\n",
        "\n",
        "Make sure your runtime utilizes GPU."
      ]
    },
    {
      "cell_type": "code",
      "execution_count": null,
      "metadata": {
        "colab": {
          "background_save": true
        },
        "id": "nZf9Fz56Ji2k"
      },
      "outputs": [],
      "source": [
        "!pip install transformers\n",
        "!pip install datasets\n",
        "!pip install accelerate -U"
      ]
    },
    {
      "cell_type": "markdown",
      "metadata": {
        "id": "syd-MTppZi3_"
      },
      "source": [
        "### Load Texts \n",
        "\n",
        "Own text to be classfied can be loaded into Colab's data section using drag and drop (data get lost when runtime ends) or mounted via Google Drive."
      ]
    },
    {
      "cell_type": "code",
      "execution_count": null,
      "metadata": {
        "id": "ZJr2m1LWO3hM"
      },
      "outputs": [],
      "source": [
        "import pandas as pd\n",
        "\n",
        "## example text\n",
        "text_input = [\"Don't treat your employees like numbers!\",\n",
        "              \"Too much red-tape\",\n",
        "              \"Very friendly and collaborative work environment\"]\n",
        "\n",
        "##load own texts\n",
        "\"\"\"\n",
        "my_df = pd.read_csv(\"/content/MY_FILE.csv\", sep = \";\")\n",
        "text_input = my_df[\"MY_TEXT_COLUMN\"].to_list()\n",
        "\"\"\"\n",
        "\n",
        "df = pd.DataFrame({'text': text_input})"
      ]
    },
    {
      "cell_type": "markdown",
      "metadata": {
        "id": "pBzdi8nCiJsP"
      },
      "source": [
        "# Predict Dominant Culture\n",
        "\n",
        "In this section, we load the model *roberta-large-dominant-culture*, which predicts which of the four culture dimensions of the Competing Values Framework best fits the text at hands, i.e., what is the dominant culture."
      ]
    },
    {
      "cell_type": "code",
      "execution_count": null,
      "metadata": {
        "id": "uvJ2kobJiIwz"
      },
      "outputs": [],
      "source": [
        "### load model\n",
        "from transformers import AutoTokenizer\n",
        "from transformers import AutoModelForSequenceClassification\n",
        "\n",
        "tokenizer = AutoTokenizer.from_pretrained(\"CultureBERT/roberta-large-dominant-culture\")\n",
        "model = AutoModelForSequenceClassification.from_pretrained(\"CultureBERT/roberta-large-dominant-culture\", num_labels=4)"
      ]
    },
    {
      "cell_type": "code",
      "execution_count": null,
      "metadata": {
        "id": "Fbs6Ec72ruH6"
      },
      "outputs": [],
      "source": [
        "### tokenize texts\n",
        "from datasets import Dataset\n",
        "\n",
        "def tokenize_function(examples):\n",
        "    return tokenizer(examples[\"text\"], padding=\"max_length\",  max_length=200, truncation=True)\n",
        "\n",
        "text_dataset = Dataset.from_pandas(df)\n",
        "text_tokenized = text_dataset.map(tokenize_function, batched=True)"
      ]
    },
    {
      "cell_type": "code",
      "execution_count": null,
      "metadata": {
        "id": "88tOErTtQ_ec"
      },
      "outputs": [],
      "source": [
        "### make predictions\n",
        "from transformers import Trainer\n",
        "from scipy.special import softmax\n",
        "\n",
        "trainer = Trainer(model=model)\n",
        "\n",
        "predictions = trainer.predict(test_dataset = text_tokenized)\n"
      ]
    },
    {
      "cell_type": "code",
      "execution_count": null,
      "metadata": {
        "id": "T0ROdjz3aKcE"
      },
      "outputs": [],
      "source": [
        "#transform predictions into probabilities\n",
        "probabilities = softmax(predictions.predictions, axis = 1)\n",
        "\n",
        "clan_scores = []\n",
        "adhocracy_scores = []\n",
        "market_scores = []\n",
        "hierarchy_scores = []\n",
        "\n",
        "\n",
        "for prediction in probabilities:\n",
        "  clan_scores.append(prediction[0])\n",
        "  adhocracy_scores.append(prediction[1])\n",
        "  market_scores.append(prediction[2])\n",
        "  hierarchy_scores.append(prediction[3])"
      ]
    },
    {
      "cell_type": "markdown",
      "metadata": {
        "id": "CLeaGMazjfFv"
      },
      "source": [
        "Create data frame and determine dominant culture."
      ]
    },
    {
      "cell_type": "code",
      "execution_count": null,
      "metadata": {
        "id": "5tUQLln3aO5X"
      },
      "outputs": [],
      "source": [
        "df_dominant_culture = pd.DataFrame(\n",
        "    {\n",
        "     'text': text_input,\n",
        "     'clan': clan_scores,\n",
        "     'adhocracy': adhocracy_scores,\n",
        "     'market': market_scores,\n",
        "     'hierarchy': hierarchy_scores,\n",
        "    })\n",
        "\n",
        "df_dominant_culture['dominant_culture'] = df_dominant_culture[['clan','adhocracy', 'market', 'hierarchy']].idxmax(axis=1)"
      ]
    },
    {
      "cell_type": "markdown",
      "metadata": {
        "id": "ViUuBpvPjlqz"
      },
      "source": [
        "Store data frame."
      ]
    },
    {
      "cell_type": "code",
      "execution_count": null,
      "metadata": {
        "id": "v3tUlMg_hZ-_"
      },
      "outputs": [],
      "source": [
        "df_dominant_culture.to_csv(\"/content/my_scores.csv\", sep = \";\")"
      ]
    },
    {
      "cell_type": "code",
      "execution_count": null,
      "metadata": {
        "colab": {
          "base_uri": "https://localhost:8080/",
          "height": 142
        },
        "id": "I9-PMMlxaesP",
        "outputId": "f3d36800-02a9-4414-d920-6b6e0aa41af5"
      },
      "outputs": [
        {
          "data": {
            "text/html": [
              "\n",
              "  <div id=\"df-5e41d985-e712-475a-9856-47a2ccd0b3d9\">\n",
              "    <div class=\"colab-df-container\">\n",
              "      <div>\n",
              "<style scoped>\n",
              "    .dataframe tbody tr th:only-of-type {\n",
              "        vertical-align: middle;\n",
              "    }\n",
              "\n",
              "    .dataframe tbody tr th {\n",
              "        vertical-align: top;\n",
              "    }\n",
              "\n",
              "    .dataframe thead th {\n",
              "        text-align: right;\n",
              "    }\n",
              "</style>\n",
              "<table border=\"1\" class=\"dataframe\">\n",
              "  <thead>\n",
              "    <tr style=\"text-align: right;\">\n",
              "      <th></th>\n",
              "      <th>text</th>\n",
              "      <th>clan</th>\n",
              "      <th>adhocracy</th>\n",
              "      <th>market</th>\n",
              "      <th>hierarchy</th>\n",
              "      <th>dominant_culture</th>\n",
              "    </tr>\n",
              "  </thead>\n",
              "  <tbody>\n",
              "    <tr>\n",
              "      <th>0</th>\n",
              "      <td>Don't treat your employees like numbers!</td>\n",
              "      <td>0.114001</td>\n",
              "      <td>0.096637</td>\n",
              "      <td>0.552592</td>\n",
              "      <td>0.236770</td>\n",
              "      <td>market</td>\n",
              "    </tr>\n",
              "    <tr>\n",
              "      <th>1</th>\n",
              "      <td>Too much red-tape</td>\n",
              "      <td>0.183804</td>\n",
              "      <td>0.125862</td>\n",
              "      <td>0.290897</td>\n",
              "      <td>0.399437</td>\n",
              "      <td>hierarchy</td>\n",
              "    </tr>\n",
              "    <tr>\n",
              "      <th>2</th>\n",
              "      <td>Very friendly and collaborative work environment</td>\n",
              "      <td>0.732498</td>\n",
              "      <td>0.082554</td>\n",
              "      <td>0.084714</td>\n",
              "      <td>0.100233</td>\n",
              "      <td>clan</td>\n",
              "    </tr>\n",
              "  </tbody>\n",
              "</table>\n",
              "</div>\n",
              "      <button class=\"colab-df-convert\" onclick=\"convertToInteractive('df-5e41d985-e712-475a-9856-47a2ccd0b3d9')\"\n",
              "              title=\"Convert this dataframe to an interactive table.\"\n",
              "              style=\"display:none;\">\n",
              "        \n",
              "  <svg xmlns=\"http://www.w3.org/2000/svg\" height=\"24px\"viewBox=\"0 0 24 24\"\n",
              "       width=\"24px\">\n",
              "    <path d=\"M0 0h24v24H0V0z\" fill=\"none\"/>\n",
              "    <path d=\"M18.56 5.44l.94 2.06.94-2.06 2.06-.94-2.06-.94-.94-2.06-.94 2.06-2.06.94zm-11 1L8.5 8.5l.94-2.06 2.06-.94-2.06-.94L8.5 2.5l-.94 2.06-2.06.94zm10 10l.94 2.06.94-2.06 2.06-.94-2.06-.94-.94-2.06-.94 2.06-2.06.94z\"/><path d=\"M17.41 7.96l-1.37-1.37c-.4-.4-.92-.59-1.43-.59-.52 0-1.04.2-1.43.59L10.3 9.45l-7.72 7.72c-.78.78-.78 2.05 0 2.83L4 21.41c.39.39.9.59 1.41.59.51 0 1.02-.2 1.41-.59l7.78-7.78 2.81-2.81c.8-.78.8-2.07 0-2.86zM5.41 20L4 18.59l7.72-7.72 1.47 1.35L5.41 20z\"/>\n",
              "  </svg>\n",
              "      </button>\n",
              "      \n",
              "  <style>\n",
              "    .colab-df-container {\n",
              "      display:flex;\n",
              "      flex-wrap:wrap;\n",
              "      gap: 12px;\n",
              "    }\n",
              "\n",
              "    .colab-df-convert {\n",
              "      background-color: #E8F0FE;\n",
              "      border: none;\n",
              "      border-radius: 50%;\n",
              "      cursor: pointer;\n",
              "      display: none;\n",
              "      fill: #1967D2;\n",
              "      height: 32px;\n",
              "      padding: 0 0 0 0;\n",
              "      width: 32px;\n",
              "    }\n",
              "\n",
              "    .colab-df-convert:hover {\n",
              "      background-color: #E2EBFA;\n",
              "      box-shadow: 0px 1px 2px rgba(60, 64, 67, 0.3), 0px 1px 3px 1px rgba(60, 64, 67, 0.15);\n",
              "      fill: #174EA6;\n",
              "    }\n",
              "\n",
              "    [theme=dark] .colab-df-convert {\n",
              "      background-color: #3B4455;\n",
              "      fill: #D2E3FC;\n",
              "    }\n",
              "\n",
              "    [theme=dark] .colab-df-convert:hover {\n",
              "      background-color: #434B5C;\n",
              "      box-shadow: 0px 1px 3px 1px rgba(0, 0, 0, 0.15);\n",
              "      filter: drop-shadow(0px 1px 2px rgba(0, 0, 0, 0.3));\n",
              "      fill: #FFFFFF;\n",
              "    }\n",
              "  </style>\n",
              "\n",
              "      <script>\n",
              "        const buttonEl =\n",
              "          document.querySelector('#df-5e41d985-e712-475a-9856-47a2ccd0b3d9 button.colab-df-convert');\n",
              "        buttonEl.style.display =\n",
              "          google.colab.kernel.accessAllowed ? 'block' : 'none';\n",
              "\n",
              "        async function convertToInteractive(key) {\n",
              "          const element = document.querySelector('#df-5e41d985-e712-475a-9856-47a2ccd0b3d9');\n",
              "          const dataTable =\n",
              "            await google.colab.kernel.invokeFunction('convertToInteractive',\n",
              "                                                     [key], {});\n",
              "          if (!dataTable) return;\n",
              "\n",
              "          const docLinkHtml = 'Like what you see? Visit the ' +\n",
              "            '<a target=\"_blank\" href=https://colab.research.google.com/notebooks/data_table.ipynb>data table notebook</a>'\n",
              "            + ' to learn more about interactive tables.';\n",
              "          element.innerHTML = '';\n",
              "          dataTable['output_type'] = 'display_data';\n",
              "          await google.colab.output.renderOutput(dataTable, element);\n",
              "          const docLink = document.createElement('div');\n",
              "          docLink.innerHTML = docLinkHtml;\n",
              "          element.appendChild(docLink);\n",
              "        }\n",
              "      </script>\n",
              "    </div>\n",
              "  </div>\n",
              "  "
            ],
            "text/plain": [
              "                                               text      clan  adhocracy  \\\n",
              "0          Don't treat your employees like numbers!  0.114001   0.096637   \n",
              "1                                 Too much red-tape  0.183804   0.125862   \n",
              "2  Very friendly and collaborative work environment  0.732498   0.082554   \n",
              "\n",
              "     market  hierarchy dominant_culture  \n",
              "0  0.552592   0.236770           market  \n",
              "1  0.290897   0.399437        hierarchy  \n",
              "2  0.084714   0.100233             clan  "
            ]
          },
          "execution_count": 14,
          "metadata": {},
          "output_type": "execute_result"
        }
      ],
      "source": [
        "### see results\n",
        "df_dominant_culture"
      ]
    },
    {
      "cell_type": "markdown",
      "metadata": {
        "id": "4RDGfIM-kdrl"
      },
      "source": [
        "# Predict Culture Dimension\n",
        "\n",
        "In this section, we load a model that classifies text with respect to one of the four culture dimensions of the Competing Values Framework. More specifically, the model determines whether a given text contains information in line with the culture dimension of interest (positive text), contains information in opposite of the culture dimension of interest (negative text), or does not allow any inference about the culture dimension of interest at all (neutral text). As an example, we load the model *roberta-large-clan* to classify text with respect to the culture dimension Clan (a collaborative corporate culture)."
      ]
    },
    {
      "cell_type": "code",
      "execution_count": null,
      "metadata": {
        "id": "51j35N2Ckai8"
      },
      "outputs": [],
      "source": [
        "### load model\n",
        "from transformers import AutoTokenizer\n",
        "from transformers import AutoModelForSequenceClassification\n",
        "\n",
        "## Choose the culture dimension of interest. The following example is for the culture dimension Clan (collaborative culture).\n",
        "\n",
        "culture_model =\"CultureBERT/roberta-large-clan\"\n",
        "#culture_model =\"CultureBERT/roberta-large-adhocracy\"\n",
        "#culture_model =\"CultureBERT/roberta-large-market\"\n",
        "#culture_model =\"CultureBERT/roberta-large-hierarchy\"\n",
        "\n",
        "tokenizer = AutoTokenizer.from_pretrained(culture_model)\n",
        "model = AutoModelForSequenceClassification.from_pretrained(culture_model, num_labels=3)"
      ]
    },
    {
      "cell_type": "code",
      "execution_count": null,
      "metadata": {
        "colab": {
          "base_uri": "https://localhost:8080/",
          "height": 49,
          "referenced_widgets": [
            "36be1822db1e4cee8f798bd341288401",
            "adf847fd02e4408e937087076763aadd",
            "6d9a3d3f37eb4a6eb53a99f7a212599e",
            "74862c14ec2b497f9e6273e2f828c64b",
            "d7f4bba1955043b49e5a625a289cdec4",
            "d9b5f672354043588f6e249d2212e7e9",
            "0d78a5cf03c844119e08bd59225d6e78",
            "5c7933e5eb764b98b7df4822c67cef8f",
            "21d83be291964ae19fd4a8cca6160c60",
            "8d0ff5d44e144387a31b5feb1b4122f9",
            "0d968487d5aa45e0946fdbf2a8a6cc1b"
          ]
        },
        "id": "AovxtwuErwr-",
        "outputId": "e8b1d4df-8de7-4c8f-ed6d-dde366694279"
      },
      "outputs": [
        {
          "data": {
            "application/vnd.jupyter.widget-view+json": {
              "model_id": "36be1822db1e4cee8f798bd341288401",
              "version_major": 2,
              "version_minor": 0
            },
            "text/plain": [
              "  0%|          | 0/1 [00:00<?, ?ba/s]"
            ]
          },
          "metadata": {},
          "output_type": "display_data"
        }
      ],
      "source": [
        "### tokenize texts\n",
        "from datasets import Dataset\n",
        "\n",
        "def tokenize_function(examples):\n",
        "    return tokenizer(examples[\"text\"], padding=\"max_length\",  max_length=200, truncation=True)\n",
        "\n",
        "text_dataset = Dataset.from_pandas(df)\n",
        "text_tokenized = text_dataset.map(tokenize_function, batched=True)"
      ]
    },
    {
      "cell_type": "code",
      "execution_count": null,
      "metadata": {
        "id": "H22Ps2rzlIaA"
      },
      "outputs": [],
      "source": [
        "### make predictions\n",
        "from transformers import Trainer\n",
        "from scipy.special import softmax\n",
        "\n",
        "trainer = Trainer(model=model)\n",
        "\n",
        "predictions = trainer.predict(test_dataset = text_tokenized)"
      ]
    },
    {
      "cell_type": "code",
      "execution_count": null,
      "metadata": {
        "id": "2-EFv2nWlQV2"
      },
      "outputs": [],
      "source": [
        "#transform predictions into probabilities\n",
        "probabilities = softmax(predictions.predictions, axis = 1)\n",
        "\n",
        "neutral_scores = []\n",
        "positive_scores = []\n",
        "negative_scores = []\n",
        "\n",
        "\n",
        "\n",
        "for prediction in probabilities:\n",
        "  neutral_scores.append(prediction[0])\n",
        "  positive_scores.append(prediction[1])\n",
        "  negative_scores.append(prediction[2])\n"
      ]
    },
    {
      "cell_type": "code",
      "execution_count": null,
      "metadata": {
        "id": "FKcXuzkOld2k"
      },
      "outputs": [],
      "source": [
        "df_culture = pd.DataFrame(\n",
        "    {\n",
        "     'text': text_input,\n",
        "     'neutral': neutral_scores,\n",
        "     'positive': positive_scores,\n",
        "     'negative': negative_scores,\n",
        "    })\n",
        "\n",
        "df_culture['prediction'] = df_culture[['neutral','positive', 'negative']].idxmax(axis=1)"
      ]
    },
    {
      "cell_type": "code",
      "execution_count": null,
      "metadata": {
        "id": "1ICCZLofnnqJ"
      },
      "outputs": [],
      "source": [
        "df_culture.to_csv(\"/content/single_culture_dimension.csv\", sep = \";\")"
      ]
    },
    {
      "cell_type": "code",
      "execution_count": null,
      "metadata": {
        "colab": {
          "base_uri": "https://localhost:8080/",
          "height": 142
        },
        "id": "A390fkmvmBGI",
        "outputId": "c47b849b-9a97-48ed-9afe-4ffb5263e82b"
      },
      "outputs": [
        {
          "data": {
            "text/html": [
              "\n",
              "  <div id=\"df-d6cc7920-20fd-427d-ba7b-50add2b86200\">\n",
              "    <div class=\"colab-df-container\">\n",
              "      <div>\n",
              "<style scoped>\n",
              "    .dataframe tbody tr th:only-of-type {\n",
              "        vertical-align: middle;\n",
              "    }\n",
              "\n",
              "    .dataframe tbody tr th {\n",
              "        vertical-align: top;\n",
              "    }\n",
              "\n",
              "    .dataframe thead th {\n",
              "        text-align: right;\n",
              "    }\n",
              "</style>\n",
              "<table border=\"1\" class=\"dataframe\">\n",
              "  <thead>\n",
              "    <tr style=\"text-align: right;\">\n",
              "      <th></th>\n",
              "      <th>text</th>\n",
              "      <th>neutral</th>\n",
              "      <th>positive</th>\n",
              "      <th>negative</th>\n",
              "      <th>prediction</th>\n",
              "    </tr>\n",
              "  </thead>\n",
              "  <tbody>\n",
              "    <tr>\n",
              "      <th>0</th>\n",
              "      <td>Don't treat your employees like numbers!</td>\n",
              "      <td>0.009679</td>\n",
              "      <td>0.006638</td>\n",
              "      <td>0.983683</td>\n",
              "      <td>negative</td>\n",
              "    </tr>\n",
              "    <tr>\n",
              "      <th>1</th>\n",
              "      <td>Too much red-tape</td>\n",
              "      <td>0.925018</td>\n",
              "      <td>0.015644</td>\n",
              "      <td>0.059339</td>\n",
              "      <td>neutral</td>\n",
              "    </tr>\n",
              "    <tr>\n",
              "      <th>2</th>\n",
              "      <td>Very friendly and collaborative work environment</td>\n",
              "      <td>0.007218</td>\n",
              "      <td>0.990893</td>\n",
              "      <td>0.001889</td>\n",
              "      <td>positive</td>\n",
              "    </tr>\n",
              "  </tbody>\n",
              "</table>\n",
              "</div>\n",
              "      <button class=\"colab-df-convert\" onclick=\"convertToInteractive('df-d6cc7920-20fd-427d-ba7b-50add2b86200')\"\n",
              "              title=\"Convert this dataframe to an interactive table.\"\n",
              "              style=\"display:none;\">\n",
              "        \n",
              "  <svg xmlns=\"http://www.w3.org/2000/svg\" height=\"24px\"viewBox=\"0 0 24 24\"\n",
              "       width=\"24px\">\n",
              "    <path d=\"M0 0h24v24H0V0z\" fill=\"none\"/>\n",
              "    <path d=\"M18.56 5.44l.94 2.06.94-2.06 2.06-.94-2.06-.94-.94-2.06-.94 2.06-2.06.94zm-11 1L8.5 8.5l.94-2.06 2.06-.94-2.06-.94L8.5 2.5l-.94 2.06-2.06.94zm10 10l.94 2.06.94-2.06 2.06-.94-2.06-.94-.94-2.06-.94 2.06-2.06.94z\"/><path d=\"M17.41 7.96l-1.37-1.37c-.4-.4-.92-.59-1.43-.59-.52 0-1.04.2-1.43.59L10.3 9.45l-7.72 7.72c-.78.78-.78 2.05 0 2.83L4 21.41c.39.39.9.59 1.41.59.51 0 1.02-.2 1.41-.59l7.78-7.78 2.81-2.81c.8-.78.8-2.07 0-2.86zM5.41 20L4 18.59l7.72-7.72 1.47 1.35L5.41 20z\"/>\n",
              "  </svg>\n",
              "      </button>\n",
              "      \n",
              "  <style>\n",
              "    .colab-df-container {\n",
              "      display:flex;\n",
              "      flex-wrap:wrap;\n",
              "      gap: 12px;\n",
              "    }\n",
              "\n",
              "    .colab-df-convert {\n",
              "      background-color: #E8F0FE;\n",
              "      border: none;\n",
              "      border-radius: 50%;\n",
              "      cursor: pointer;\n",
              "      display: none;\n",
              "      fill: #1967D2;\n",
              "      height: 32px;\n",
              "      padding: 0 0 0 0;\n",
              "      width: 32px;\n",
              "    }\n",
              "\n",
              "    .colab-df-convert:hover {\n",
              "      background-color: #E2EBFA;\n",
              "      box-shadow: 0px 1px 2px rgba(60, 64, 67, 0.3), 0px 1px 3px 1px rgba(60, 64, 67, 0.15);\n",
              "      fill: #174EA6;\n",
              "    }\n",
              "\n",
              "    [theme=dark] .colab-df-convert {\n",
              "      background-color: #3B4455;\n",
              "      fill: #D2E3FC;\n",
              "    }\n",
              "\n",
              "    [theme=dark] .colab-df-convert:hover {\n",
              "      background-color: #434B5C;\n",
              "      box-shadow: 0px 1px 3px 1px rgba(0, 0, 0, 0.15);\n",
              "      filter: drop-shadow(0px 1px 2px rgba(0, 0, 0, 0.3));\n",
              "      fill: #FFFFFF;\n",
              "    }\n",
              "  </style>\n",
              "\n",
              "      <script>\n",
              "        const buttonEl =\n",
              "          document.querySelector('#df-d6cc7920-20fd-427d-ba7b-50add2b86200 button.colab-df-convert');\n",
              "        buttonEl.style.display =\n",
              "          google.colab.kernel.accessAllowed ? 'block' : 'none';\n",
              "\n",
              "        async function convertToInteractive(key) {\n",
              "          const element = document.querySelector('#df-d6cc7920-20fd-427d-ba7b-50add2b86200');\n",
              "          const dataTable =\n",
              "            await google.colab.kernel.invokeFunction('convertToInteractive',\n",
              "                                                     [key], {});\n",
              "          if (!dataTable) return;\n",
              "\n",
              "          const docLinkHtml = 'Like what you see? Visit the ' +\n",
              "            '<a target=\"_blank\" href=https://colab.research.google.com/notebooks/data_table.ipynb>data table notebook</a>'\n",
              "            + ' to learn more about interactive tables.';\n",
              "          element.innerHTML = '';\n",
              "          dataTable['output_type'] = 'display_data';\n",
              "          await google.colab.output.renderOutput(dataTable, element);\n",
              "          const docLink = document.createElement('div');\n",
              "          docLink.innerHTML = docLinkHtml;\n",
              "          element.appendChild(docLink);\n",
              "        }\n",
              "      </script>\n",
              "    </div>\n",
              "  </div>\n",
              "  "
            ],
            "text/plain": [
              "                                               text   neutral  positive  \\\n",
              "0          Don't treat your employees like numbers!  0.009679  0.006638   \n",
              "1                                 Too much red-tape  0.925018  0.015644   \n",
              "2  Very friendly and collaborative work environment  0.007218  0.990893   \n",
              "\n",
              "   negative prediction  \n",
              "0  0.983683   negative  \n",
              "1  0.059339    neutral  \n",
              "2  0.001889   positive  "
            ]
          },
          "execution_count": 21,
          "metadata": {},
          "output_type": "execute_result"
        }
      ],
      "source": [
        "df_culture"
      ]
    }
  ],
  "metadata": {
    "accelerator": "GPU",
    "colab": {
      "machine_shape": "hm",
      "provenance": []
    },
    "gpuClass": "standard",
    "kernelspec": {
      "display_name": "Python 3",
      "name": "python3"
    },
    "language_info": {
      "name": "python"
    },
    "widgets": {
      "application/vnd.jupyter.widget-state+json": {
        "0d78a5cf03c844119e08bd59225d6e78": {
          "model_module": "@jupyter-widgets/controls",
          "model_module_version": "1.5.0",
          "model_name": "DescriptionStyleModel",
          "state": {
            "_model_module": "@jupyter-widgets/controls",
            "_model_module_version": "1.5.0",
            "_model_name": "DescriptionStyleModel",
            "_view_count": null,
            "_view_module": "@jupyter-widgets/base",
            "_view_module_version": "1.2.0",
            "_view_name": "StyleView",
            "description_width": ""
          }
        },
        "0d968487d5aa45e0946fdbf2a8a6cc1b": {
          "model_module": "@jupyter-widgets/controls",
          "model_module_version": "1.5.0",
          "model_name": "DescriptionStyleModel",
          "state": {
            "_model_module": "@jupyter-widgets/controls",
            "_model_module_version": "1.5.0",
            "_model_name": "DescriptionStyleModel",
            "_view_count": null,
            "_view_module": "@jupyter-widgets/base",
            "_view_module_version": "1.2.0",
            "_view_name": "StyleView",
            "description_width": ""
          }
        },
        "21d83be291964ae19fd4a8cca6160c60": {
          "model_module": "@jupyter-widgets/controls",
          "model_module_version": "1.5.0",
          "model_name": "ProgressStyleModel",
          "state": {
            "_model_module": "@jupyter-widgets/controls",
            "_model_module_version": "1.5.0",
            "_model_name": "ProgressStyleModel",
            "_view_count": null,
            "_view_module": "@jupyter-widgets/base",
            "_view_module_version": "1.2.0",
            "_view_name": "StyleView",
            "bar_color": null,
            "description_width": ""
          }
        },
        "36be1822db1e4cee8f798bd341288401": {
          "model_module": "@jupyter-widgets/controls",
          "model_module_version": "1.5.0",
          "model_name": "HBoxModel",
          "state": {
            "_dom_classes": [],
            "_model_module": "@jupyter-widgets/controls",
            "_model_module_version": "1.5.0",
            "_model_name": "HBoxModel",
            "_view_count": null,
            "_view_module": "@jupyter-widgets/controls",
            "_view_module_version": "1.5.0",
            "_view_name": "HBoxView",
            "box_style": "",
            "children": [
              "IPY_MODEL_adf847fd02e4408e937087076763aadd",
              "IPY_MODEL_6d9a3d3f37eb4a6eb53a99f7a212599e",
              "IPY_MODEL_74862c14ec2b497f9e6273e2f828c64b"
            ],
            "layout": "IPY_MODEL_d7f4bba1955043b49e5a625a289cdec4"
          }
        },
        "5c7933e5eb764b98b7df4822c67cef8f": {
          "model_module": "@jupyter-widgets/base",
          "model_module_version": "1.2.0",
          "model_name": "LayoutModel",
          "state": {
            "_model_module": "@jupyter-widgets/base",
            "_model_module_version": "1.2.0",
            "_model_name": "LayoutModel",
            "_view_count": null,
            "_view_module": "@jupyter-widgets/base",
            "_view_module_version": "1.2.0",
            "_view_name": "LayoutView",
            "align_content": null,
            "align_items": null,
            "align_self": null,
            "border": null,
            "bottom": null,
            "display": null,
            "flex": null,
            "flex_flow": null,
            "grid_area": null,
            "grid_auto_columns": null,
            "grid_auto_flow": null,
            "grid_auto_rows": null,
            "grid_column": null,
            "grid_gap": null,
            "grid_row": null,
            "grid_template_areas": null,
            "grid_template_columns": null,
            "grid_template_rows": null,
            "height": null,
            "justify_content": null,
            "justify_items": null,
            "left": null,
            "margin": null,
            "max_height": null,
            "max_width": null,
            "min_height": null,
            "min_width": null,
            "object_fit": null,
            "object_position": null,
            "order": null,
            "overflow": null,
            "overflow_x": null,
            "overflow_y": null,
            "padding": null,
            "right": null,
            "top": null,
            "visibility": null,
            "width": null
          }
        },
        "6d9a3d3f37eb4a6eb53a99f7a212599e": {
          "model_module": "@jupyter-widgets/controls",
          "model_module_version": "1.5.0",
          "model_name": "FloatProgressModel",
          "state": {
            "_dom_classes": [],
            "_model_module": "@jupyter-widgets/controls",
            "_model_module_version": "1.5.0",
            "_model_name": "FloatProgressModel",
            "_view_count": null,
            "_view_module": "@jupyter-widgets/controls",
            "_view_module_version": "1.5.0",
            "_view_name": "ProgressView",
            "bar_style": "success",
            "description": "",
            "description_tooltip": null,
            "layout": "IPY_MODEL_5c7933e5eb764b98b7df4822c67cef8f",
            "max": 1,
            "min": 0,
            "orientation": "horizontal",
            "style": "IPY_MODEL_21d83be291964ae19fd4a8cca6160c60",
            "value": 1
          }
        },
        "74862c14ec2b497f9e6273e2f828c64b": {
          "model_module": "@jupyter-widgets/controls",
          "model_module_version": "1.5.0",
          "model_name": "HTMLModel",
          "state": {
            "_dom_classes": [],
            "_model_module": "@jupyter-widgets/controls",
            "_model_module_version": "1.5.0",
            "_model_name": "HTMLModel",
            "_view_count": null,
            "_view_module": "@jupyter-widgets/controls",
            "_view_module_version": "1.5.0",
            "_view_name": "HTMLView",
            "description": "",
            "description_tooltip": null,
            "layout": "IPY_MODEL_8d0ff5d44e144387a31b5feb1b4122f9",
            "placeholder": "​",
            "style": "IPY_MODEL_0d968487d5aa45e0946fdbf2a8a6cc1b",
            "value": " 1/1 [00:00&lt;00:00, 48.26ba/s]"
          }
        },
        "8d0ff5d44e144387a31b5feb1b4122f9": {
          "model_module": "@jupyter-widgets/base",
          "model_module_version": "1.2.0",
          "model_name": "LayoutModel",
          "state": {
            "_model_module": "@jupyter-widgets/base",
            "_model_module_version": "1.2.0",
            "_model_name": "LayoutModel",
            "_view_count": null,
            "_view_module": "@jupyter-widgets/base",
            "_view_module_version": "1.2.0",
            "_view_name": "LayoutView",
            "align_content": null,
            "align_items": null,
            "align_self": null,
            "border": null,
            "bottom": null,
            "display": null,
            "flex": null,
            "flex_flow": null,
            "grid_area": null,
            "grid_auto_columns": null,
            "grid_auto_flow": null,
            "grid_auto_rows": null,
            "grid_column": null,
            "grid_gap": null,
            "grid_row": null,
            "grid_template_areas": null,
            "grid_template_columns": null,
            "grid_template_rows": null,
            "height": null,
            "justify_content": null,
            "justify_items": null,
            "left": null,
            "margin": null,
            "max_height": null,
            "max_width": null,
            "min_height": null,
            "min_width": null,
            "object_fit": null,
            "object_position": null,
            "order": null,
            "overflow": null,
            "overflow_x": null,
            "overflow_y": null,
            "padding": null,
            "right": null,
            "top": null,
            "visibility": null,
            "width": null
          }
        },
        "adf847fd02e4408e937087076763aadd": {
          "model_module": "@jupyter-widgets/controls",
          "model_module_version": "1.5.0",
          "model_name": "HTMLModel",
          "state": {
            "_dom_classes": [],
            "_model_module": "@jupyter-widgets/controls",
            "_model_module_version": "1.5.0",
            "_model_name": "HTMLModel",
            "_view_count": null,
            "_view_module": "@jupyter-widgets/controls",
            "_view_module_version": "1.5.0",
            "_view_name": "HTMLView",
            "description": "",
            "description_tooltip": null,
            "layout": "IPY_MODEL_d9b5f672354043588f6e249d2212e7e9",
            "placeholder": "​",
            "style": "IPY_MODEL_0d78a5cf03c844119e08bd59225d6e78",
            "value": "100%"
          }
        },
        "d7f4bba1955043b49e5a625a289cdec4": {
          "model_module": "@jupyter-widgets/base",
          "model_module_version": "1.2.0",
          "model_name": "LayoutModel",
          "state": {
            "_model_module": "@jupyter-widgets/base",
            "_model_module_version": "1.2.0",
            "_model_name": "LayoutModel",
            "_view_count": null,
            "_view_module": "@jupyter-widgets/base",
            "_view_module_version": "1.2.0",
            "_view_name": "LayoutView",
            "align_content": null,
            "align_items": null,
            "align_self": null,
            "border": null,
            "bottom": null,
            "display": null,
            "flex": null,
            "flex_flow": null,
            "grid_area": null,
            "grid_auto_columns": null,
            "grid_auto_flow": null,
            "grid_auto_rows": null,
            "grid_column": null,
            "grid_gap": null,
            "grid_row": null,
            "grid_template_areas": null,
            "grid_template_columns": null,
            "grid_template_rows": null,
            "height": null,
            "justify_content": null,
            "justify_items": null,
            "left": null,
            "margin": null,
            "max_height": null,
            "max_width": null,
            "min_height": null,
            "min_width": null,
            "object_fit": null,
            "object_position": null,
            "order": null,
            "overflow": null,
            "overflow_x": null,
            "overflow_y": null,
            "padding": null,
            "right": null,
            "top": null,
            "visibility": null,
            "width": null
          }
        },
        "d9b5f672354043588f6e249d2212e7e9": {
          "model_module": "@jupyter-widgets/base",
          "model_module_version": "1.2.0",
          "model_name": "LayoutModel",
          "state": {
            "_model_module": "@jupyter-widgets/base",
            "_model_module_version": "1.2.0",
            "_model_name": "LayoutModel",
            "_view_count": null,
            "_view_module": "@jupyter-widgets/base",
            "_view_module_version": "1.2.0",
            "_view_name": "LayoutView",
            "align_content": null,
            "align_items": null,
            "align_self": null,
            "border": null,
            "bottom": null,
            "display": null,
            "flex": null,
            "flex_flow": null,
            "grid_area": null,
            "grid_auto_columns": null,
            "grid_auto_flow": null,
            "grid_auto_rows": null,
            "grid_column": null,
            "grid_gap": null,
            "grid_row": null,
            "grid_template_areas": null,
            "grid_template_columns": null,
            "grid_template_rows": null,
            "height": null,
            "justify_content": null,
            "justify_items": null,
            "left": null,
            "margin": null,
            "max_height": null,
            "max_width": null,
            "min_height": null,
            "min_width": null,
            "object_fit": null,
            "object_position": null,
            "order": null,
            "overflow": null,
            "overflow_x": null,
            "overflow_y": null,
            "padding": null,
            "right": null,
            "top": null,
            "visibility": null,
            "width": null
          }
        }
      }
    }
  },
  "nbformat": 4,
  "nbformat_minor": 0
}
